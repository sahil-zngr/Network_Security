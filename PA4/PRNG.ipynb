{
 "cells": [
  {
   "cell_type": "code",
   "execution_count": 1,
   "metadata": {},
   "outputs": [],
   "source": [
    "import math\n",
    "import statistics"
   ]
  },
  {
   "cell_type": "code",
   "execution_count": 2,
   "metadata": {},
   "outputs": [
    {
     "name": "stdout",
     "output_type": "stream",
     "text": [
      "The formula is: X(k+1) = a * Xk + c mod m\n"
     ]
    }
   ],
   "source": [
    "print(\"The formula is: X(k+1) = a * Xk + c mod m\")\n",
    "seed_num = 12\n",
    "multiplier = 3\n",
    "increment = 3\n",
    "modulus = 5\n",
    "unit = 100\n",
    "\n",
    "# linear congruent generator\n",
    "def lcg():\n",
    "    lcg_random = []\n",
    "    num_base = seed_num\n",
    "    for i in range(unit, 0, -1):\n",
    "        rd = (multiplier * num_base + increment) % modulus\n",
    "#         print(rd)\n",
    "        lcg_random.append(rd)\n",
    "        num_base = rd\n",
    "        \n",
    "    return lcg_random"
   ]
  },
  {
   "cell_type": "code",
   "execution_count": 3,
   "metadata": {},
   "outputs": [],
   "source": [
    "lcg_random = lcg()"
   ]
  },
  {
   "cell_type": "code",
   "execution_count": 4,
   "metadata": {},
   "outputs": [],
   "source": [
    "# print(lcg_random)"
   ]
  },
  {
   "cell_type": "code",
   "execution_count": 5,
   "metadata": {},
   "outputs": [],
   "source": [
    "import sys\n",
    "\n",
    "j = 7\n",
    "k = 10\n",
    "modval = 5\n",
    "\n",
    "seed = \"155785692479641\"\n",
    "\n",
    "unit = 100\n",
    "\n",
    "def strtodigit(val):\n",
    "    arr = []\n",
    "    for i in range(len(val)):\n",
    "        arr.append(int(val[i]))\n",
    "    return arr\n",
    "\n",
    "\n",
    "s = strtodigit(seed)\n",
    "\n",
    "\n",
    "\n",
    "def laggedfibgen():\n",
    "    slen = len(s)\n",
    "    lfg = []\n",
    "    for n in range(1000):\n",
    "        out = (s[slen - j-1] + s[slen - k - 1]) % modval\n",
    "        for i in range(len(s)-1):\n",
    "            s[i] = s[i+1] \n",
    "        s[slen-1] = out\n",
    "        lfg.append(out)\n",
    "    return lfg"
   ]
  },
  {
   "cell_type": "code",
   "execution_count": 6,
   "metadata": {},
   "outputs": [],
   "source": [
    "lfg_random = laggedfibgen()"
   ]
  },
  {
   "cell_type": "code",
   "execution_count": 7,
   "metadata": {},
   "outputs": [],
   "source": [
    "#  print(lfg_random)"
   ]
  },
  {
   "cell_type": "code",
   "execution_count": 8,
   "metadata": {},
   "outputs": [],
   "source": [
    "#runs test of randomness\n",
    "def runsTest(l, l_median):\n",
    "  \n",
    "    runs, n1, n2 = 0, 0, 0\n",
    "      \n",
    "    # Checking for start of new run\n",
    "    for i in range(len(l)):\n",
    "          \n",
    "        # no. of runs\n",
    "        if (l[i] >= l_median and l[i-1] < l_median) or \\\n",
    "                (l[i] < l_median and l[i-1] >= l_median):\n",
    "            runs += 1  \n",
    "          \n",
    "        # no. of positive values\n",
    "        if(l[i]) >= l_median:\n",
    "            n1 += 1   \n",
    "          \n",
    "        # no. of negative values\n",
    "        else:\n",
    "            n2 += 1   \n",
    "  \n",
    "    runs_exp = ((2*n1*n2)/(n1+n2))+1\n",
    "    stan_dev = math.sqrt((2*n1*n2*(2*n1*n2-n1-n2))/ \\\n",
    "                       (((n1+n2)**2)*(n1+n2-1)))\n",
    "  \n",
    "    z = (runs-runs_exp)/stan_dev\n",
    "  \n",
    "    return z"
   ]
  },
  {
   "cell_type": "code",
   "execution_count": 9,
   "metadata": {},
   "outputs": [
    {
     "name": "stdout",
     "output_type": "stream",
     "text": [
      "Zcritical = 1.96\n",
      "Lagged fib random number Z-statistic =  0.4873316857973091\n",
      "linear congruent generator random number Z-statistic =  9.849873095629203\n"
     ]
    }
   ],
   "source": [
    "\"\"\"(Zcritical =1.96 for confidence level of 95%) . \n",
    "The null hypothesis is rejected i.e. the numbers are \n",
    "declared not to be random, if |Z|>Zcritical . \"\"\"\n",
    "lfg_random = [float(i)/max(lfg_random) for i in lfg_random]\n",
    "lcg_random = [float(i)/max(lcg_random) for i in lcg_random]\n",
    "l_median= statistics.median(lfg_random)\n",
    "Z = abs(runsTest(lfg_random, l_median))\n",
    "print(\"Zcritical = 1.96\")\n",
    "print('Lagged fib random number Z-statistic = ', Z)\n",
    "\n",
    "l_median= statistics.median(lcg_random)\n",
    "Z = abs(runsTest(lcg_random, l_median))\n",
    "print('linear congruent generator random number Z-statistic = ', Z)"
   ]
  },
  {
   "cell_type": "code",
   "execution_count": 336,
   "metadata": {},
   "outputs": [],
   "source": [
    "def kstest1(arr_1):\n",
    "    arr_1 = [float(i)/max(arr_1) for i in arr_1]\n",
    "    from scipy.stats import kstest\n",
    "    x = kstest(arr_1, \"uniform\")\n",
    "#     print(x)\n",
    "    return x"
   ]
  },
  {
   "cell_type": "code",
   "execution_count": 339,
   "metadata": {},
   "outputs": [
    {
     "name": "stdout",
     "output_type": "stream",
     "text": [
      "Lagged fib gen =  KstestResult(statistic=0.21899999999999997, pvalue=1.3553365394228715e-42)\n",
      "linear congruent generator  KstestResult(statistic=0.25, pvalue=5.408871776434847e-06)\n"
     ]
    }
   ],
   "source": [
    "Z = kstest1(lfg_random)\n",
    "# print(\"D 95% confifdence critical = \", 1.36/10)\n",
    "print('Lagged fib gen = ', Z)\n",
    "\n",
    "Z = kstest1(lcg_random)\n",
    "print('linear congruent generator ', Z)"
   ]
  },
  {
   "cell_type": "code",
   "execution_count": 210,
   "metadata": {},
   "outputs": [
    {
     "data": {
      "text/plain": [
       "0.5909914070728627"
      ]
     },
     "execution_count": 210,
     "metadata": {},
     "output_type": "execute_result"
    }
   ],
   "source": []
  },
  {
   "cell_type": "code",
   "execution_count": null,
   "metadata": {},
   "outputs": [],
   "source": []
  },
  {
   "cell_type": "code",
   "execution_count": null,
   "metadata": {},
   "outputs": [],
   "source": []
  }
 ],
 "metadata": {
  "kernelspec": {
   "display_name": "Python 3",
   "language": "python",
   "name": "python3"
  },
  "language_info": {
   "codemirror_mode": {
    "name": "ipython",
    "version": 3
   },
   "file_extension": ".py",
   "mimetype": "text/x-python",
   "name": "python",
   "nbconvert_exporter": "python",
   "pygments_lexer": "ipython3",
   "version": "3.6.9"
  }
 },
 "nbformat": 4,
 "nbformat_minor": 2
}
